{
 "cells": [
  {
   "cell_type": "markdown",
   "id": "9a8e3ec3",
   "metadata": {},
   "source": [
    "Отчет"
   ]
  },
  {
   "cell_type": "markdown",
   "id": "309da663",
   "metadata": {},
   "source": []
  },
  {
   "cell_type": "markdown",
   "id": "14611bbe",
   "metadata": {},
   "source": []
  },
  {
   "cell_type": "code",
   "execution_count": null,
   "id": "546e5721",
   "metadata": {},
   "outputs": [],
   "source": []
  }
 ],
 "metadata": {
  "kernelspec": {
   "display_name": "Python 3 (ipykernel)",
   "language": "python",
   "name": "python3"
  },
  "language_info": {
   "codemirror_mode": {
    "name": "ipython",
    "version": 3
   },
   "file_extension": ".py",
   "mimetype": "text/x-python",
   "name": "python",
   "nbconvert_exporter": "python",
   "pygments_lexer": "ipython3",
   "version": "3.9.7"
  }
 },
 "nbformat": 4,
 "nbformat_minor": 5
}
